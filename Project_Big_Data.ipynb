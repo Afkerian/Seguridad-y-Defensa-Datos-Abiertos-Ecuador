{
  "nbformat": 4,
  "nbformat_minor": 0,
  "metadata": {
    "colab": {
      "provenance": []
    },
    "kernelspec": {
      "name": "python3",
      "display_name": "Python 3"
    },
    "language_info": {
      "name": "python"
    }
  },
  "cells": [
    {
      "cell_type": "code",
      "source": [
        "# Importar biblioteca necesaria\n",
        "import pandas as pd\n",
        "\n",
        "# Especificar el nombre del archivo Excel\n",
        "archivo_excel = '/content/dataproyecto.xlsx'"
      ],
      "metadata": {
        "id": "kJxSldX04FYI"
      },
      "execution_count": null,
      "outputs": []
    },
    {
      "cell_type": "code",
      "source": [
        "# Obtener la lista de nombres de hojas en el archivo Excel\n",
        "nombres_hojas = pd.ExcelFile(archivo_excel).sheet_names\n",
        "\n",
        "# Mostrar los nombres de las hojas\n",
        "print(\"Nombres de las hojas en el archivo Excel:\")\n",
        "print(nombres_hojas)\n"
      ],
      "metadata": {
        "colab": {
          "base_uri": "https://localhost:8080/"
        },
        "id": "4FxZkuCy30t-",
        "outputId": "b646c05a-6da6-405e-b95c-c85db9a3cb22"
      },
      "execution_count": null,
      "outputs": [
        {
          "output_type": "stream",
          "name": "stdout",
          "text": [
            "Nombres de las hojas en el archivo Excel:\n",
            "['mdi_personasdesaparecidas_pm_20', 'mdi_armasilicitas_pm_2023_enero', 'mdi_detenidosaprehendidos_pm_20', 'Hoja1']\n"
          ]
        }
      ]
    },
    {
      "cell_type": "code",
      "execution_count": null,
      "metadata": {
        "colab": {
          "base_uri": "https://localhost:8080/"
        },
        "id": "FMUAHjcFyAtb",
        "outputId": "fad5c47f-c05a-4d54-e080-66b10e09c7e3"
      },
      "outputs": [
        {
          "output_type": "stream",
          "name": "stdout",
          "text": [
            "Hoja 1:\n",
            "                        Provincia   Latitud   Longitud  Edad Aprox.    Sexo  \\\n",
            "0                ZAMORA CHINCHIPE -4.068053 -78.951322           16   MUJER   \n",
            "1                      D.M. QUITO -0.218822 -78.513549           17  HOMBRE   \n",
            "2                      D.M. QUITO -0.269090 -78.540015           17   MUJER   \n",
            "3  SANTO DOMINGO DE LOS TSACHILAS  0.009167 -79.391605           39  HOMBRE   \n",
            "4                      D.M. QUITO -0.175042 -78.474782           14   MUJER   \n",
            "\n",
            "     Motivo Desaparción  Motivo Desaparción Obs. Fecha Desaparición  \\\n",
            "0  PROBLEMAS FAMILIARES  PROBLEMAS SENTIMENTALES         2023-08-28   \n",
            "1              SIN_DATO                 SIN_DATO         2023-01-24   \n",
            "2  PROBLEMAS FAMILIARES  PROBLEMAS SENTIMENTALES         2023-02-02   \n",
            "3              SIN_DATO                 SIN_DATO         2023-02-01   \n",
            "4    PROBLEMAS SOCIALES  INFLUENCIA DE AMISTADES         2023-03-16   \n",
            "\n",
            "  Situación Actual Fecha Localización  \n",
            "0       ENCONTRADO           5/9/2023  \n",
            "1     DESAPARECIDO           SIN_DATO  \n",
            "2       ENCONTRADO           7/2/2023  \n",
            "3     DESAPARECIDO           SIN_DATO  \n",
            "4       ENCONTRADO          17/3/2023  \n",
            "\n",
            "Hoja 2:\n",
            "  subtipo_objeto_robado     nombre_objeto fecha_evento nombre_provincia  \\\n",
            "0         ARMA DE FUEGO       CARTUCHERAS   2022-12-31            CAÑAR   \n",
            "1         ARMA DE FUEGO          PISTOLAS   2022-12-31              DMG   \n",
            "2         ARMA DE FUEGO       CARTUCHERAS   2023-01-01           MANABI   \n",
            "3         ARMA DE FUEGO  SUBAMETRALLADORA   2023-01-01              DMG   \n",
            "4         ARMA DE FUEGO          PISTOLAS   2023-01-01           MANABI   \n",
            "\n",
            "                           tipo_delito  \n",
            "0  DELITOS CONTRA LA SEGURIDAD PÚBLICA  \n",
            "1  DELITOS CONTRA LA SEGURIDAD PÚBLICA  \n",
            "2  DELITOS CONTRA LA SEGURIDAD PÚBLICA  \n",
            "3  DELITOS CONTRA LA SEGURIDAD PÚBLICA  \n",
            "4  DELITOS CONTRA LA SEGURIDAD PÚBLICA  \n",
            "\n",
            "Hoja 3:\n",
            "  codigo_iccs         tipo  estado_civil estatus_migratorio edad    sexo  \\\n",
            "0   060122.00  APREHENDIDO  SE DESCONOCE          NO APLICA   27  HOMBRE   \n",
            "1   NO APLICA     DETENIDO      CASADO/A          NO APLICA   55  HOMBRE   \n",
            "2   020190.01  APREHENDIDO      CASADO/A           SIN DATO   35  HOMBRE   \n",
            "3   NO APLICA     DETENIDO      CASADO/A          NO APLICA   35  HOMBRE   \n",
            "4   NO APLICA  APREHENDIDO     SOLTERO/A            REGULAR   22  HOMBRE   \n",
            "\n",
            "      genero nacionalidad autoidentificacion_etnica  numero_detenciones  ...  \\\n",
            "0  MASCULINO   VENEZOLANO                 MESTIZO/A                   0  ...   \n",
            "1  MASCULINO  ECUATORIANO                 MESTIZO/A                   0  ...   \n",
            "2  MASCULINO  ECUATORIANO                 MESTIZO/A                   0  ...   \n",
            "3  MASCULINO  ECUATORIANO                 MESTIZO/A                   0  ...   \n",
            "4  MASCULINO  ECUATORIANO                  SIN DATO                   0  ...   \n",
            "\n",
            "  codigo_provincia codigo_canton codigo_parroquia  nombre_provincia  \\\n",
            "0               17          1701         170150.0         PICHINCHA   \n",
            "1                8           804          80450.0        ESMERALDAS   \n",
            "2                1           101          10150.0             AZUAY   \n",
            "3                1           101          10150.0             AZUAY   \n",
            "4               19          1908         190852.0  ZAMORA CHINCHIPE   \n",
            "\n",
            "  nombre_canton          nombre_parroquia presunta_flagrancia  \\\n",
            "0         QUITO                     QUITO                  SI   \n",
            "1      QUININDE    ROSA ZARATE (QUININDE)                  NO   \n",
            "2        CUENCA                    CUENCA                  SI   \n",
            "3        CUENCA                    CUENCA                  SI   \n",
            "4       PALANDA  SAN FRANCISCO DEL VERGEL                  SI   \n",
            "\n",
            "                                 presunta_infraccion  \\\n",
            "0  DELITOS POR LA PRODUCCIÓN O TRÁFICO ILÍCITO DE...   \n",
            "1                                            BOLETAS   \n",
            "2  DELITOS CONTRA LA EFICIENCIA DE LA ADMINISTRAC...   \n",
            "3                                            BOLETAS   \n",
            "4                       DELITOS CULPOSOS DE TRÁNSITO   \n",
            "\n",
            "                              presunta_subinfraccion presunta_modalidad  \n",
            "0  PRODUCCIÓN ILÍCITA DE SUSTANCIAS CATALOGADAS S...           SIN DATO  \n",
            "1                                  BOLETA DE APREMIO           SIN DATO  \n",
            "2                               ATAQUE O RESISTENCIA           SIN DATO  \n",
            "3                                  BOLETA DE APREMIO           SIN DATO  \n",
            "4        LESIONES CAUSADAS POR ACCIDENTE DE TRÁNSITO           SIN DATO  \n",
            "\n",
            "[5 rows x 37 columns]\n"
          ]
        }
      ],
      "source": [
        "# Leer cada hoja del archivo Excel en un DataFrame separado\n",
        "df_hoja1 = pd.read_excel(archivo_excel, sheet_name='mdi_personasdesaparecidas_pm_20')\n",
        "df_hoja2 = pd.read_excel(archivo_excel, sheet_name='mdi_armasilicitas_pm_2023_enero')\n",
        "df_hoja3 = pd.read_excel(archivo_excel, sheet_name='mdi_detenidosaprehendidos_pm_20')\n",
        "\n",
        "# Puedes cambiar 'Nombre_Hoja1', 'Nombre_Hoja2', y 'Nombre_Hoja3' por los nombres reales de tus hojas\n",
        "\n",
        "# Mostrar las primeras filas de cada DataFrame\n",
        "print(\"Hoja 1:\")\n",
        "print(df_hoja1.head())\n",
        "\n",
        "print(\"\\nHoja 2:\")\n",
        "print(df_hoja2.head())\n",
        "\n",
        "print(\"\\nHoja 3:\")\n",
        "print(df_hoja3.head())\n"
      ]
    },
    {
      "cell_type": "code",
      "source": [
        "df_hoja1.info()"
      ],
      "metadata": {
        "colab": {
          "base_uri": "https://localhost:8080/"
        },
        "id": "Z2i_bQDp52Bm",
        "outputId": "77205966-7a30-4dca-e5c9-310577011003"
      },
      "execution_count": null,
      "outputs": [
        {
          "output_type": "stream",
          "name": "stdout",
          "text": [
            "<class 'pandas.core.frame.DataFrame'>\n",
            "RangeIndex: 7021 entries, 0 to 7020\n",
            "Data columns (total 10 columns):\n",
            " #   Column                   Non-Null Count  Dtype         \n",
            "---  ------                   --------------  -----         \n",
            " 0   Provincia                7021 non-null   object        \n",
            " 1   Latitud                  7021 non-null   float64       \n",
            " 2   Longitud                 7021 non-null   float64       \n",
            " 3   Edad Aprox.              7021 non-null   int64         \n",
            " 4   Sexo                     7021 non-null   object        \n",
            " 5   Motivo Desaparción       7021 non-null   object        \n",
            " 6   Motivo Desaparción Obs.  7021 non-null   object        \n",
            " 7   Fecha Desaparición       7021 non-null   datetime64[ns]\n",
            " 8   Situación Actual         7021 non-null   object        \n",
            " 9   Fecha Localización       7021 non-null   object        \n",
            "dtypes: datetime64[ns](1), float64(2), int64(1), object(6)\n",
            "memory usage: 548.6+ KB\n"
          ]
        }
      ]
    },
    {
      "cell_type": "code",
      "source": [
        "from sklearn.model_selection import train_test_split\n",
        "from sklearn.ensemble import RandomForestRegressor\n",
        "from sklearn.metrics import mean_absolute_error\n",
        "import pandas as pd\n",
        "\n",
        "# Leer los datos\n",
        "df = pd.read_excel('/content/dataproyecto.xlsx', sheet_name='mdi_personasdesaparecidas_pm_20')\n",
        "\n",
        "# Preprocesamiento de datos\n",
        "le = LabelEncoder()\n",
        "df['Motivo Desaparción'] = le.fit_transform(df['Motivo Desaparción'])\n",
        "df['Sexo'] = le.fit_transform(df['Sexo'])\n",
        "df['Situación Actual'] = le.fit_transform(df['Situación Actual'])\n",
        "\n",
        "# Convertir la columna 'Fecha Localización' a tipo datetime\n",
        "#df['Fecha Localización'] = pd.to_datetime(df['Fecha Localización'], errors='coerce')\n",
        "df['Fecha Localización'] = pd.to_datetime(df['Fecha Localización'], format='%d/%m/%Y', errors='coerce')\n",
        "\n",
        "\n",
        "# Eliminar filas con fechas de localización nulas\n",
        "df = df.dropna(subset=['Fecha Localización'])\n",
        "\n",
        "# Codificación one-hot para la columna 'Provincia'\n",
        "df = pd.get_dummies(df, columns=['Provincia'], drop_first=True)\n",
        "\n",
        "# Seleccionar características y variable objetivo\n",
        "X = df[['Latitud', 'Longitud', 'Edad Aprox.', 'Sexo', 'Motivo Desaparción', 'Situación Actual'] + list(df.columns[11:])]\n",
        "y = df['Fecha Localización']\n",
        "\n",
        "# Dividir los datos en conjuntos de entrenamiento y prueba\n",
        "X_train, X_test, y_train, y_test = train_test_split(X, y, test_size=0.2, random_state=42)\n",
        "\n",
        "# Construir y entrenar el modelo de regresión (Random Forest en este caso)\n",
        "model = RandomForestRegressor()\n",
        "model.fit(X_train, y_train)\n",
        "\n",
        "# Realizar predicciones en el conjunto de prueba\n",
        "predictions = model.predict(X_test)\n",
        "\n",
        "# Convertir las fechas reales a formato numérico compatible\n",
        "y_test_numeric = y_test.astype('int64') // 10**9  # Convertir a segundos desde la época (epoch)\n",
        "\n",
        "# Calcular el timedelta entre las predicciones y las etiquetas reales\n",
        "timedelta_predictions = predictions - y_test_numeric.values\n",
        "\n",
        "# Imprimir la diferencia de tiempo promedio\n",
        "print(f'Mean Absolute Timedelta: {timedelta_predictions.mean()}')"
      ],
      "metadata": {
        "colab": {
          "base_uri": "https://localhost:8080/"
        },
        "id": "MZYO8bsz6YOk",
        "outputId": "f2ec1c6b-9582-4c94-ade5-bc5c3310e357"
      },
      "execution_count": null,
      "outputs": [
        {
          "output_type": "stream",
          "name": "stdout",
          "text": [
            "Mean Absolute Timedelta: 1.6877557914717384e+18\n"
          ]
        }
      ]
    },
    {
      "cell_type": "code",
      "source": [
        "mean_absolute_timedelta_days = 1.6877123501817436e+18 / (86400 * 1e9)\n",
        "print(f'Mean Absolute Timedelta (en días): {mean_absolute_timedelta_days:.2f} días')\n"
      ],
      "metadata": {
        "colab": {
          "base_uri": "https://localhost:8080/"
        },
        "id": "EYtq2KKq87Qg",
        "outputId": "98a3f0d8-22ca-49c6-a68e-67cff570df6d"
      },
      "execution_count": null,
      "outputs": [
        {
          "output_type": "stream",
          "name": "stdout",
          "text": [
            "Mean Absolute Timedelta (en días): 19533.71 días\n"
          ]
        }
      ]
    },
    {
      "cell_type": "markdown",
      "source": [
        "# MODEL 2"
      ],
      "metadata": {
        "id": "qoNznmQy8DXj"
      }
    },
    {
      "cell_type": "code",
      "source": [
        "df_hoja2.info()"
      ],
      "metadata": {
        "colab": {
          "base_uri": "https://localhost:8080/"
        },
        "id": "v6dtk4y76jZO",
        "outputId": "cd5ee3a6-c108-4c6b-b705-bd8fae562476"
      },
      "execution_count": null,
      "outputs": [
        {
          "output_type": "stream",
          "name": "stdout",
          "text": [
            "<class 'pandas.core.frame.DataFrame'>\n",
            "RangeIndex: 9237 entries, 0 to 9236\n",
            "Data columns (total 5 columns):\n",
            " #   Column                 Non-Null Count  Dtype         \n",
            "---  ------                 --------------  -----         \n",
            " 0   subtipo_objeto_robado  9237 non-null   object        \n",
            " 1   nombre_objeto          9237 non-null   object        \n",
            " 2   fecha_evento           9237 non-null   datetime64[ns]\n",
            " 3   nombre_provincia       9237 non-null   object        \n",
            " 4   tipo_delito            9237 non-null   object        \n",
            "dtypes: datetime64[ns](1), object(4)\n",
            "memory usage: 360.9+ KB\n"
          ]
        }
      ]
    },
    {
      "cell_type": "code",
      "source": [
        "from sklearn.model_selection import train_test_split\n",
        "from sklearn.ensemble import RandomForestClassifier\n",
        "from sklearn.metrics import accuracy_score, classification_report\n",
        "from sklearn.preprocessing import LabelEncoder\n",
        "import pandas as pd\n",
        "\n",
        "# Leer los datos\n",
        "df_delitos = pd.read_excel('/content/dataproyecto.xlsx', sheet_name='mdi_armasilicitas_pm_2023_enero')\n",
        "\n",
        "# Preprocesamiento de datos\n",
        "le = LabelEncoder()\n",
        "df_delitos['subtipo_objeto_robado'] = le.fit_transform(df_delitos['subtipo_objeto_robado'])\n",
        "df_delitos['nombre_objeto'] = le.fit_transform(df_delitos['nombre_objeto'])\n",
        "df_delitos['nombre_provincia'] = le.fit_transform(df_delitos['nombre_provincia'])\n",
        "df_delitos['tipo_delito'] = le.fit_transform(df_delitos['tipo_delito'])\n",
        "\n",
        "# Excluir la columna de fechas para el modelo de clasificación\n",
        "X_delitos = df_delitos[['subtipo_objeto_robado', 'nombre_objeto', 'nombre_provincia']]\n",
        "y_delitos = df_delitos['tipo_delito']\n",
        "\n",
        "# Dividir los datos en conjuntos de entrenamiento y prueba\n",
        "X_train_delitos, X_test_delitos, y_train_delitos, y_test_delitos = train_test_split(X_delitos, y_delitos, test_size=0.2, random_state=42)\n",
        "\n",
        "# Construir y entrenar el modelo de clasificación (Random Forest en este caso)\n",
        "model_delitos = RandomForestClassifier()\n",
        "model_delitos.fit(X_train_delitos, y_train_delitos)\n",
        "\n",
        "# Realizar predicciones en el conjunto de prueba\n",
        "predictions_delitos = model_delitos.predict(X_test_delitos)\n",
        "\n",
        "# Evaluar el modelo\n",
        "accuracy = accuracy_score(y_test_delitos, predictions_delitos)\n",
        "print(f'Accuracy: {accuracy:.2f}')\n",
        "\n",
        "# Imprimir el reporte de clasificación\n",
        "print(\"Classification Report:\")\n",
        "print(classification_report(y_test_delitos, predictions_delitos))\n"
      ],
      "metadata": {
        "colab": {
          "base_uri": "https://localhost:8080/"
        },
        "id": "XFYXxrHL9HNY",
        "outputId": "c875ac46-7502-4001-cadd-2d995ce12bda"
      },
      "execution_count": null,
      "outputs": [
        {
          "output_type": "stream",
          "name": "stdout",
          "text": [
            "Accuracy: 0.71\n",
            "Classification Report:\n",
            "              precision    recall  f1-score   support\n",
            "\n",
            "           0       0.00      0.00      0.00         1\n",
            "           1       0.00      0.00      0.00         1\n",
            "           2       0.00      0.00      0.00         1\n",
            "           3       0.00      0.00      0.00         1\n",
            "           4       0.00      0.00      0.00         5\n",
            "           5       0.00      0.00      0.00        20\n",
            "           9       0.15      0.02      0.03       221\n",
            "          11       0.00      0.00      0.00         1\n",
            "          12       0.00      0.00      0.00         5\n",
            "          13       0.00      0.00      0.00         1\n",
            "          14       0.00      0.00      0.00         2\n",
            "          15       0.00      0.00      0.00         5\n",
            "          16       0.00      0.00      0.00         1\n",
            "          17       0.00      0.00      0.00         1\n",
            "          18       0.00      0.00      0.00         9\n",
            "          19       0.00      0.00      0.00         3\n",
            "          20       0.00      0.00      0.00        46\n",
            "          21       0.00      0.00      0.00        24\n",
            "          23       0.72      0.98      0.83      1329\n",
            "          24       0.00      0.00      0.00        14\n",
            "          25       0.00      0.00      0.00         3\n",
            "          26       0.33      0.08      0.13        12\n",
            "          27       0.00      0.00      0.00         6\n",
            "          28       0.33      0.01      0.02       113\n",
            "          30       0.00      0.00      0.00        23\n",
            "\n",
            "    accuracy                           0.71      1848\n",
            "   macro avg       0.06      0.04      0.04      1848\n",
            "weighted avg       0.56      0.71      0.60      1848\n",
            "\n"
          ]
        },
        {
          "output_type": "stream",
          "name": "stderr",
          "text": [
            "/usr/local/lib/python3.10/dist-packages/sklearn/metrics/_classification.py:1344: UndefinedMetricWarning: Precision and F-score are ill-defined and being set to 0.0 in labels with no predicted samples. Use `zero_division` parameter to control this behavior.\n",
            "  _warn_prf(average, modifier, msg_start, len(result))\n",
            "/usr/local/lib/python3.10/dist-packages/sklearn/metrics/_classification.py:1344: UndefinedMetricWarning: Precision and F-score are ill-defined and being set to 0.0 in labels with no predicted samples. Use `zero_division` parameter to control this behavior.\n",
            "  _warn_prf(average, modifier, msg_start, len(result))\n",
            "/usr/local/lib/python3.10/dist-packages/sklearn/metrics/_classification.py:1344: UndefinedMetricWarning: Precision and F-score are ill-defined and being set to 0.0 in labels with no predicted samples. Use `zero_division` parameter to control this behavior.\n",
            "  _warn_prf(average, modifier, msg_start, len(result))\n"
          ]
        }
      ]
    },
    {
      "cell_type": "markdown",
      "source": [
        "## MODELO 3"
      ],
      "metadata": {
        "id": "HCvEyNtR-JUA"
      }
    },
    {
      "cell_type": "code",
      "source": [
        "df_hoja3.info()"
      ],
      "metadata": {
        "colab": {
          "base_uri": "https://localhost:8080/"
        },
        "id": "RJP3VccU9gPR",
        "outputId": "fcf9da2a-4e00-4edf-f35b-f7ead9453400"
      },
      "execution_count": null,
      "outputs": [
        {
          "output_type": "stream",
          "name": "stdout",
          "text": [
            "<class 'pandas.core.frame.DataFrame'>\n",
            "RangeIndex: 68662 entries, 0 to 68661\n",
            "Data columns (total 37 columns):\n",
            " #   Column                       Non-Null Count  Dtype         \n",
            "---  ------                       --------------  -----         \n",
            " 0   codigo_iccs                  67672 non-null  object        \n",
            " 1   tipo                         68662 non-null  object        \n",
            " 2   estado_civil                 68662 non-null  object        \n",
            " 3   estatus_migratorio           68662 non-null  object        \n",
            " 4   edad                         68662 non-null  object        \n",
            " 5   sexo                         68662 non-null  object        \n",
            " 6   genero                       68662 non-null  object        \n",
            " 7   nacionalidad                 68662 non-null  object        \n",
            " 8   autoidentificacion_etnica    68662 non-null  object        \n",
            " 9   numero_detenciones           68662 non-null  int64         \n",
            " 10  nivel_de_instruccion         68662 non-null  object        \n",
            " 11  condicion                    68662 non-null  object        \n",
            " 12  movilizacion                 68662 non-null  object        \n",
            " 13  tipo_arma                    68662 non-null  object        \n",
            " 14  arma                         68662 non-null  object        \n",
            " 15  fecha_detencion_aprehension  68662 non-null  datetime64[ns]\n",
            " 16  hora_detencion_aprehension   68662 non-null  object        \n",
            " 17  lugar                        68662 non-null  object        \n",
            " 18  tipo_lugar                   68662 non-null  object        \n",
            " 19  codigo_distrito              68662 non-null  object        \n",
            " 20  codigo_circuito              68662 non-null  object        \n",
            " 21  codigo_subcircuito           68662 non-null  object        \n",
            " 22  nombre_zona                  68662 non-null  object        \n",
            " 23  nombre_subzona               68662 non-null  object        \n",
            " 24  nombre_distrito              68662 non-null  object        \n",
            " 25  nombre_circuito              68662 non-null  object        \n",
            " 26  nombre_subcircuito           68662 non-null  object        \n",
            " 27  codigo_provincia             68662 non-null  object        \n",
            " 28  codigo_canton                68662 non-null  int64         \n",
            " 29  codigo_parroquia             68654 non-null  float64       \n",
            " 30  nombre_provincia             68662 non-null  object        \n",
            " 31  nombre_canton                68662 non-null  object        \n",
            " 32  nombre_parroquia             68662 non-null  object        \n",
            " 33  presunta_flagrancia          68662 non-null  object        \n",
            " 34  presunta_infraccion          68662 non-null  object        \n",
            " 35  presunta_subinfraccion       68662 non-null  object        \n",
            " 36  presunta_modalidad           68662 non-null  object        \n",
            "dtypes: datetime64[ns](1), float64(1), int64(2), object(33)\n",
            "memory usage: 19.4+ MB\n"
          ]
        }
      ]
    },
    {
      "cell_type": "code",
      "source": [
        "import pandas as pd\n",
        "from sklearn.model_selection import train_test_split\n",
        "from sklearn.preprocessing import StandardScaler, LabelEncoder\n",
        "from sklearn.metrics import accuracy_score, classification_report\n",
        "from tensorflow import keras\n",
        "from tensorflow.keras import layers\n",
        "\n",
        "# Leer los datos\n",
        "df_detenciones = pd.read_excel('/content/dataproyecto.xlsx', sheet_name='mdi_detenidosaprehendidos_pm_20')\n",
        "\n",
        "# Preprocesamiento de datos\n",
        "le = LabelEncoder()\n",
        "\n",
        "# Iterar sobre todas las columnas categóricas\n",
        "for column in df_detenciones.select_dtypes(include=['object']).columns:\n",
        "    df_detenciones[column] = le.fit_transform(df_detenciones[column])\n",
        "\n",
        "# Eliminar filas con valores no numéricos\n",
        "df_detenciones_numeric = df_detenciones.dropna(subset=['edad', 'numero_detenciones'])\n",
        "df_detenciones_numeric = df_detenciones_numeric[df_detenciones_numeric['edad'] != 'SIN DATO']\n",
        "\n",
        "# Seleccionar características y variable objetivo\n",
        "X_detenciones = df_detenciones_numeric.drop(columns=['presunta_modalidad', 'fecha_detencion_aprehension'])\n",
        "y_detenciones = df_detenciones_numeric['presunta_modalidad']\n",
        "\n",
        "# Manejar valores faltantes\n",
        "X_detenciones = X_detenciones.fillna(0)  # Puedes ajustar la estrategia de llenado según tu caso\n",
        "\n",
        "# Dividir los datos en conjuntos de entrenamiento y prueba\n",
        "X_train_detenciones, X_test_detenciones, y_train_detenciones, y_test_detenciones = train_test_split(X_detenciones, y_detenciones, test_size=0.2, random_state=42)\n",
        "\n",
        "# Escalar los datos (excluyendo la columna de fechas)\n",
        "scaler = StandardScaler()\n",
        "X_train_detenciones_scaled = scaler.fit_transform(X_train_detenciones)\n",
        "X_test_detenciones_scaled = scaler.transform(X_test_detenciones)\n",
        "\n",
        "# Crear la arquitectura de la red neuronal mejorada\n",
        "model_detenciones = keras.Sequential([\n",
        "    layers.Dense(128, activation='relu', input_shape=(X_train_detenciones_scaled.shape[1],)),\n",
        "    layers.Dropout(0.5),  # Agrega dropout para reducir el sobreajuste\n",
        "    layers.Dense(64, activation='relu'),\n",
        "    layers.Dropout(0.3),\n",
        "    layers.Dense(32, activation='relu'),\n",
        "    layers.Dense(len(y_detenciones.unique()), activation='softmax')\n",
        "])\n",
        "\n",
        "# Compilar el modelo\n",
        "model_detenciones.compile(optimizer='adam', loss='sparse_categorical_crossentropy', metrics=['accuracy'])\n",
        "\n",
        "# Entrenar el modelo\n",
        "history = model_detenciones.fit(X_train_detenciones_scaled, y_train_detenciones, epochs=50, batch_size=32, validation_split=0.25)\n",
        "\n"
      ],
      "metadata": {
        "colab": {
          "base_uri": "https://localhost:8080/"
        },
        "id": "BtOP6aZ5-Pw9",
        "outputId": "b368e366-3026-45d8-9192-332af9fc0b2b"
      },
      "execution_count": null,
      "outputs": [
        {
          "output_type": "stream",
          "name": "stdout",
          "text": [
            "Epoch 1/50\n",
            "1288/1288 [==============================] - 4s 3ms/step - loss: 0.8403 - accuracy: 0.7883 - val_loss: 0.5394 - val_accuracy: 0.8415\n",
            "Epoch 2/50\n",
            "1288/1288 [==============================] - 3s 3ms/step - loss: 0.5582 - accuracy: 0.8296 - val_loss: 0.4622 - val_accuracy: 0.8539\n",
            "Epoch 3/50\n",
            "1288/1288 [==============================] - 5s 4ms/step - loss: 0.4848 - accuracy: 0.8435 - val_loss: 0.4041 - val_accuracy: 0.8686\n",
            "Epoch 4/50\n",
            "1288/1288 [==============================] - 3s 3ms/step - loss: 0.4398 - accuracy: 0.8569 - val_loss: 0.3688 - val_accuracy: 0.8758\n",
            "Epoch 5/50\n",
            "1288/1288 [==============================] - 3s 3ms/step - loss: 0.4099 - accuracy: 0.8655 - val_loss: 0.3473 - val_accuracy: 0.8817\n",
            "Epoch 6/50\n",
            "1288/1288 [==============================] - 4s 3ms/step - loss: 0.3880 - accuracy: 0.8716 - val_loss: 0.3343 - val_accuracy: 0.8866\n",
            "Epoch 7/50\n",
            "1288/1288 [==============================] - 4s 3ms/step - loss: 0.3707 - accuracy: 0.8771 - val_loss: 0.3233 - val_accuracy: 0.8914\n",
            "Epoch 8/50\n",
            "1288/1288 [==============================] - 3s 3ms/step - loss: 0.3580 - accuracy: 0.8804 - val_loss: 0.3130 - val_accuracy: 0.8914\n",
            "Epoch 9/50\n",
            "1288/1288 [==============================] - 3s 3ms/step - loss: 0.3485 - accuracy: 0.8839 - val_loss: 0.3080 - val_accuracy: 0.8930\n",
            "Epoch 10/50\n",
            "1288/1288 [==============================] - 5s 4ms/step - loss: 0.3366 - accuracy: 0.8861 - val_loss: 0.3023 - val_accuracy: 0.8943\n",
            "Epoch 11/50\n",
            "1288/1288 [==============================] - 3s 3ms/step - loss: 0.3298 - accuracy: 0.8867 - val_loss: 0.2966 - val_accuracy: 0.8932\n",
            "Epoch 12/50\n",
            "1288/1288 [==============================] - 3s 3ms/step - loss: 0.3231 - accuracy: 0.8879 - val_loss: 0.2905 - val_accuracy: 0.8967\n",
            "Epoch 13/50\n",
            "1288/1288 [==============================] - 5s 4ms/step - loss: 0.3196 - accuracy: 0.8886 - val_loss: 0.2889 - val_accuracy: 0.8965\n",
            "Epoch 14/50\n",
            "1288/1288 [==============================] - 4s 3ms/step - loss: 0.3154 - accuracy: 0.8897 - val_loss: 0.2833 - val_accuracy: 0.8969\n",
            "Epoch 15/50\n",
            "1288/1288 [==============================] - 3s 3ms/step - loss: 0.3131 - accuracy: 0.8902 - val_loss: 0.2853 - val_accuracy: 0.8961\n",
            "Epoch 16/50\n",
            "1288/1288 [==============================] - 3s 3ms/step - loss: 0.3129 - accuracy: 0.8908 - val_loss: 0.2801 - val_accuracy: 0.8981\n",
            "Epoch 17/50\n",
            "1288/1288 [==============================] - 5s 4ms/step - loss: 0.3079 - accuracy: 0.8926 - val_loss: 0.2793 - val_accuracy: 0.8978\n",
            "Epoch 18/50\n",
            "1288/1288 [==============================] - 3s 3ms/step - loss: 0.3069 - accuracy: 0.8927 - val_loss: 0.2778 - val_accuracy: 0.8986\n",
            "Epoch 19/50\n",
            "1288/1288 [==============================] - 3s 3ms/step - loss: 0.3009 - accuracy: 0.8924 - val_loss: 0.2750 - val_accuracy: 0.8981\n",
            "Epoch 20/50\n",
            "1288/1288 [==============================] - 4s 3ms/step - loss: 0.3030 - accuracy: 0.8935 - val_loss: 0.2778 - val_accuracy: 0.9000\n",
            "Epoch 21/50\n",
            "1288/1288 [==============================] - 4s 3ms/step - loss: 0.2982 - accuracy: 0.8937 - val_loss: 0.2735 - val_accuracy: 0.8996\n",
            "Epoch 22/50\n",
            "1288/1288 [==============================] - 4s 3ms/step - loss: 0.2984 - accuracy: 0.8948 - val_loss: 0.2739 - val_accuracy: 0.9002\n",
            "Epoch 23/50\n",
            "1288/1288 [==============================] - 3s 3ms/step - loss: 0.2961 - accuracy: 0.8937 - val_loss: 0.2691 - val_accuracy: 0.9011\n",
            "Epoch 24/50\n",
            "1288/1288 [==============================] - 5s 4ms/step - loss: 0.2951 - accuracy: 0.8943 - val_loss: 0.2733 - val_accuracy: 0.8990\n",
            "Epoch 25/50\n",
            "1288/1288 [==============================] - 3s 3ms/step - loss: 0.2920 - accuracy: 0.8955 - val_loss: 0.2740 - val_accuracy: 0.8987\n",
            "Epoch 26/50\n",
            "1288/1288 [==============================] - 3s 3ms/step - loss: 0.2914 - accuracy: 0.8957 - val_loss: 0.2737 - val_accuracy: 0.8997\n",
            "Epoch 27/50\n",
            "1288/1288 [==============================] - 4s 3ms/step - loss: 0.2925 - accuracy: 0.8947 - val_loss: 0.2674 - val_accuracy: 0.9021\n",
            "Epoch 28/50\n",
            "1288/1288 [==============================] - 4s 3ms/step - loss: 0.2916 - accuracy: 0.8956 - val_loss: 0.2698 - val_accuracy: 0.9005\n",
            "Epoch 29/50\n",
            "1288/1288 [==============================] - 3s 3ms/step - loss: 0.2906 - accuracy: 0.8957 - val_loss: 0.2705 - val_accuracy: 0.8983\n",
            "Epoch 30/50\n",
            "1288/1288 [==============================] - 3s 3ms/step - loss: 0.2888 - accuracy: 0.8956 - val_loss: 0.2650 - val_accuracy: 0.9023\n",
            "Epoch 31/50\n",
            "1288/1288 [==============================] - 5s 4ms/step - loss: 0.2874 - accuracy: 0.8964 - val_loss: 0.2679 - val_accuracy: 0.9016\n",
            "Epoch 32/50\n",
            "1288/1288 [==============================] - 3s 3ms/step - loss: 0.2870 - accuracy: 0.8971 - val_loss: 0.2696 - val_accuracy: 0.9018\n",
            "Epoch 33/50\n",
            "1288/1288 [==============================] - 3s 3ms/step - loss: 0.2873 - accuracy: 0.8958 - val_loss: 0.2663 - val_accuracy: 0.9031\n",
            "Epoch 34/50\n",
            "1288/1288 [==============================] - 3s 3ms/step - loss: 0.2856 - accuracy: 0.8958 - val_loss: 0.2632 - val_accuracy: 0.9028\n",
            "Epoch 35/50\n",
            "1288/1288 [==============================] - 5s 4ms/step - loss: 0.2859 - accuracy: 0.8959 - val_loss: 0.2615 - val_accuracy: 0.9028\n",
            "Epoch 36/50\n",
            "1288/1288 [==============================] - 3s 3ms/step - loss: 0.2863 - accuracy: 0.8963 - val_loss: 0.2616 - val_accuracy: 0.9029\n",
            "Epoch 37/50\n",
            "1288/1288 [==============================] - 3s 3ms/step - loss: 0.2828 - accuracy: 0.8981 - val_loss: 0.2586 - val_accuracy: 0.9035\n",
            "Epoch 38/50\n",
            "1288/1288 [==============================] - 4s 3ms/step - loss: 0.2826 - accuracy: 0.8969 - val_loss: 0.2594 - val_accuracy: 0.9018\n",
            "Epoch 39/50\n",
            "1288/1288 [==============================] - 4s 3ms/step - loss: 0.2817 - accuracy: 0.8969 - val_loss: 0.2594 - val_accuracy: 0.9033\n",
            "Epoch 40/50\n",
            "1288/1288 [==============================] - 3s 3ms/step - loss: 0.2831 - accuracy: 0.8975 - val_loss: 0.2594 - val_accuracy: 0.9040\n",
            "Epoch 41/50\n",
            "1288/1288 [==============================] - 3s 2ms/step - loss: 0.2826 - accuracy: 0.8983 - val_loss: 0.2589 - val_accuracy: 0.9034\n",
            "Epoch 42/50\n",
            "1288/1288 [==============================] - 4s 3ms/step - loss: 0.2799 - accuracy: 0.8972 - val_loss: 0.2564 - val_accuracy: 0.9050\n",
            "Epoch 43/50\n",
            "1288/1288 [==============================] - 3s 3ms/step - loss: 0.2820 - accuracy: 0.8969 - val_loss: 0.2604 - val_accuracy: 0.9021\n",
            "Epoch 44/50\n",
            "1288/1288 [==============================] - 3s 3ms/step - loss: 0.2824 - accuracy: 0.8975 - val_loss: 0.2601 - val_accuracy: 0.9017\n",
            "Epoch 45/50\n",
            "1288/1288 [==============================] - 3s 3ms/step - loss: 0.2778 - accuracy: 0.8985 - val_loss: 0.2605 - val_accuracy: 0.9032\n",
            "Epoch 46/50\n",
            "1288/1288 [==============================] - 5s 4ms/step - loss: 0.2794 - accuracy: 0.8975 - val_loss: 0.2589 - val_accuracy: 0.9049\n",
            "Epoch 47/50\n",
            "1288/1288 [==============================] - 3s 3ms/step - loss: 0.2804 - accuracy: 0.8979 - val_loss: 0.2596 - val_accuracy: 0.9021\n",
            "Epoch 48/50\n",
            "1288/1288 [==============================] - 3s 3ms/step - loss: 0.2758 - accuracy: 0.8991 - val_loss: 0.2580 - val_accuracy: 0.9027\n",
            "Epoch 49/50\n",
            "1288/1288 [==============================] - 4s 3ms/step - loss: 0.2784 - accuracy: 0.8984 - val_loss: 0.2605 - val_accuracy: 0.9035\n",
            "Epoch 50/50\n",
            "1288/1288 [==============================] - 4s 3ms/step - loss: 0.2731 - accuracy: 0.8995 - val_loss: 0.2565 - val_accuracy: 0.9025\n"
          ]
        }
      ]
    },
    {
      "cell_type": "code",
      "source": [
        "import matplotlib.pyplot as plt\n",
        "\n",
        "# Obtener las métricas de rendimiento y pérdida durante el entrenamiento\n",
        "accuracy = history.history['accuracy']\n",
        "val_accuracy = history.history['val_accuracy']\n",
        "loss = history.history['loss']\n",
        "val_loss = history.history['val_loss']\n",
        "\n",
        "# Crear gráficos\n",
        "plt.figure(figsize=(12, 4))\n",
        "\n",
        "# Gráfico de precisión\n",
        "plt.subplot(1, 2, 1)\n",
        "plt.plot(accuracy, label='Train Accuracy')\n",
        "plt.plot(val_accuracy, label='Validation Accuracy')\n",
        "plt.title('Training and Validation Accuracy')\n",
        "plt.xlabel('Epoch')\n",
        "plt.ylabel('Accuracy')\n",
        "plt.legend()\n",
        "\n",
        "# Gráfico de pérdida\n",
        "plt.subplot(1, 2, 2)\n",
        "plt.plot(loss, label='Train Loss')\n",
        "plt.plot(val_loss, label='Validation Loss')\n",
        "plt.title('Training and Validation Loss')\n",
        "plt.xlabel('Epoch')\n",
        "plt.ylabel('Loss')\n",
        "plt.legend()\n",
        "\n",
        "# Mostrar los gráficos\n",
        "plt.tight_layout()\n",
        "plt.show()\n"
      ],
      "metadata": {
        "colab": {
          "base_uri": "https://localhost:8080/",
          "height": 309
        },
        "id": "oNhbAFGH_FV8",
        "outputId": "5ecdb73b-c0b7-4adc-8b8e-191ff8bb8332"
      },
      "execution_count": null,
      "outputs": [
        {
          "output_type": "display_data",
          "data": {
            "text/plain": [
              "<Figure size 1200x400 with 2 Axes>"
            ],
            "image/png": "[encoded data removed]"
          },
          "metadata": {}
        }
      ]
    },
    {
      "cell_type": "code",
      "source": [
        "import pandas as pd\n",
        "from sklearn.model_selection import train_test_split\n",
        "from sklearn.preprocessing import StandardScaler, LabelEncoder\n",
        "from sklearn.ensemble import RandomForestClassifier\n",
        "from sklearn.metrics import accuracy_score, classification_report\n",
        "\n",
        "# Leer los datos\n",
        "df_detenciones = pd.read_excel('/content/dataproyecto.xlsx', sheet_name='mdi_detenidosaprehendidos_pm_20')\n",
        "\n",
        "# Preprocesamiento de datos\n",
        "le = LabelEncoder()\n",
        "\n",
        "# Iterar sobre todas las columnas categóricas\n",
        "for column in df_detenciones.select_dtypes(include=['object']).columns:\n",
        "    df_detenciones[column] = le.fit_transform(df_detenciones[column])\n",
        "\n",
        "# Eliminar filas con valores no numéricos\n",
        "df_detenciones_numeric = df_detenciones.dropna(subset=['edad', 'numero_detenciones'])\n",
        "df_detenciones_numeric = df_detenciones_numeric[df_detenciones_numeric['edad'] != 'SIN DATO']\n",
        "\n",
        "# Seleccionar características y variable objetivo\n",
        "X_detenciones = df_detenciones_numeric.drop(columns=['presunta_modalidad', 'fecha_detencion_aprehension'])\n",
        "y_detenciones = df_detenciones_numeric['presunta_modalidad']\n",
        "\n",
        "# Manejar valores faltantes\n",
        "X_detenciones = X_detenciones.fillna(0)  # Puedes ajustar la estrategia de llenado según tu caso\n",
        "\n",
        "# Dividir los datos en conjuntos de entrenamiento y prueba\n",
        "X_train_detenciones, X_test_detenciones, y_train_detenciones, y_test_detenciones = train_test_split(X_detenciones, y_detenciones, test_size=0.2, random_state=42)\n",
        "\n",
        "# Escalar los datos (excluyendo la columna de fechas)\n",
        "scaler = StandardScaler()\n",
        "X_train_detenciones_scaled = scaler.fit_transform(X_train_detenciones)\n",
        "X_test_detenciones_scaled = scaler.transform(X_test_detenciones)\n",
        "\n",
        "# Construir y entrenar el modelo de clasificación (Random Forest en este caso)\n",
        "model_detenciones = RandomForestClassifier()\n",
        "model_detenciones.fit(X_train_detenciones_scaled, y_train_detenciones)\n",
        "\n",
        "# Realizar predicciones en el conjunto de prueba\n",
        "y_pred_detenciones = model_detenciones.predict(X_test_detenciones_scaled)\n",
        "\n",
        "# Evaluar el modelo\n",
        "accuracy = accuracy_score(y_test_detenciones, y_pred_detenciones)\n",
        "print(f'Accuracy: {accuracy:.2f}')\n",
        "\n",
        "# Imprimir el reporte de clasificación\n",
        "print(\"Classification Report:\")\n",
        "print(classification_report(y_test_detenciones, y_pred_detenciones))\n"
      ],
      "metadata": {
        "colab": {
          "base_uri": "https://localhost:8080/"
        },
        "id": "W1kKuVIMDAwJ",
        "outputId": "8b8e31e3-0d8a-486f-8f65-e9cc5a4c31ae"
      },
      "execution_count": null,
      "outputs": [
        {
          "output_type": "stream",
          "name": "stdout",
          "text": [
            "Accuracy: 0.94\n",
            "Classification Report:\n",
            "              precision    recall  f1-score   support\n",
            "\n",
            "           1       1.00      0.20      0.33         5\n",
            "           2       0.00      0.00      0.00         1\n",
            "           3       0.88      0.78      0.82         9\n",
            "           6       0.78      0.28      0.41        25\n",
            "           7       0.00      0.00      0.00         7\n",
            "          16       0.00      0.00      0.00         1\n",
            "          17       0.98      1.00      0.99       177\n",
            "          18       0.00      0.00      0.00         3\n",
            "          19       0.00      0.00      0.00         1\n",
            "          21       0.00      0.00      0.00         1\n",
            "          24       0.99      0.98      0.98        83\n",
            "          25       0.89      0.99      0.94       193\n",
            "          26       1.00      0.50      0.67         2\n",
            "          30       0.89      0.57      0.70        14\n",
            "          32       0.00      0.00      0.00         1\n",
            "          34       0.50      1.00      0.67         1\n",
            "          35       0.57      0.29      0.38        14\n",
            "          36       0.75      0.67      0.71         9\n",
            "          37       0.68      0.73      0.70        52\n",
            "          38       0.78      0.64      0.70        22\n",
            "          39       0.86      0.56      0.68       158\n",
            "          40       0.81      0.96      0.88       931\n",
            "          41       0.96      0.90      0.93        30\n",
            "          42       1.00      0.80      0.89         5\n",
            "          43       1.00      0.27      0.43        11\n",
            "          44       0.83      0.25      0.38        20\n",
            "          45       0.79      0.92      0.85        12\n",
            "          46       0.46      0.42      0.44       279\n",
            "          47       0.19      0.10      0.13       143\n",
            "          49       0.00      0.00      0.00         1\n",
            "          50       0.00      0.00      0.00        24\n",
            "          51       0.69      0.26      0.37        43\n",
            "          52       0.70      0.59      0.64       181\n",
            "          53       1.00      0.17      0.29        12\n",
            "          54       0.00      0.00      0.00         1\n",
            "          55       1.00      0.29      0.44         7\n",
            "          57       0.00      0.00      0.00         5\n",
            "          59       0.95      1.00      0.97       172\n",
            "          60       0.00      0.00      0.00         1\n",
            "          61       0.69      0.46      0.55        39\n",
            "          62       0.00      0.00      0.00         1\n",
            "          63       0.80      0.16      0.27        25\n",
            "          64       1.00      1.00      1.00     10583\n",
            "          65       0.55      0.70      0.62       426\n",
            "          67       0.00      0.00      0.00         2\n",
            "\n",
            "    accuracy                           0.94     13733\n",
            "   macro avg       0.55      0.41      0.44     13733\n",
            "weighted avg       0.93      0.94      0.93     13733\n",
            "\n"
          ]
        },
        {
          "output_type": "stream",
          "name": "stderr",
          "text": [
            "/usr/local/lib/python3.10/dist-packages/sklearn/metrics/_classification.py:1344: UndefinedMetricWarning: Precision and F-score are ill-defined and being set to 0.0 in labels with no predicted samples. Use `zero_division` parameter to control this behavior.\n",
            "  _warn_prf(average, modifier, msg_start, len(result))\n",
            "/usr/local/lib/python3.10/dist-packages/sklearn/metrics/_classification.py:1344: UndefinedMetricWarning: Precision and F-score are ill-defined and being set to 0.0 in labels with no predicted samples. Use `zero_division` parameter to control this behavior.\n",
            "  _warn_prf(average, modifier, msg_start, len(result))\n",
            "/usr/local/lib/python3.10/dist-packages/sklearn/metrics/_classification.py:1344: UndefinedMetricWarning: Precision and F-score are ill-defined and being set to 0.0 in labels with no predicted samples. Use `zero_division` parameter to control this behavior.\n",
            "  _warn_prf(average, modifier, msg_start, len(result))\n"
          ]
        }
      ]
    }
  ]
}